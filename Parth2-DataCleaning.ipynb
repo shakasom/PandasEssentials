{
 "cells": [
  {
   "cell_type": "markdown",
   "metadata": {},
   "source": [
    "# Pandas Essentials Part 2\n",
    "## Data Cleaning"
   ]
  },
  {
   "cell_type": "code",
   "execution_count": 2,
   "metadata": {},
   "outputs": [],
   "source": [
    "import pandas as pd\n",
    "import matplotlib.pyplot as plt\n",
    "import seaborn as sns\n",
    "%matplotlib inline"
   ]
  },
  {
   "cell_type": "code",
   "execution_count": 3,
   "metadata": {},
   "outputs": [],
   "source": [
    "df = pd.read_csv('Data/worldcitiespop.csv', low_memory=False)"
   ]
  },
  {
   "cell_type": "code",
   "execution_count": 4,
   "metadata": {},
   "outputs": [
    {
     "data": {
      "text/html": [
       "<div>\n",
       "<style>\n",
       "    .dataframe thead tr:only-child th {\n",
       "        text-align: right;\n",
       "    }\n",
       "\n",
       "    .dataframe thead th {\n",
       "        text-align: left;\n",
       "    }\n",
       "\n",
       "    .dataframe tbody tr th {\n",
       "        vertical-align: top;\n",
       "    }\n",
       "</style>\n",
       "<table border=\"1\" class=\"dataframe\">\n",
       "  <thead>\n",
       "    <tr style=\"text-align: right;\">\n",
       "      <th></th>\n",
       "      <th>Country</th>\n",
       "      <th>City</th>\n",
       "      <th>AccentCity</th>\n",
       "      <th>Region</th>\n",
       "      <th>Population</th>\n",
       "      <th>Latitude</th>\n",
       "      <th>Longitude</th>\n",
       "    </tr>\n",
       "  </thead>\n",
       "  <tbody>\n",
       "    <tr>\n",
       "      <th>0</th>\n",
       "      <td>ad</td>\n",
       "      <td>aixas</td>\n",
       "      <td>Aixàs</td>\n",
       "      <td>06</td>\n",
       "      <td>NaN</td>\n",
       "      <td>42.483333</td>\n",
       "      <td>1.466667</td>\n",
       "    </tr>\n",
       "    <tr>\n",
       "      <th>1</th>\n",
       "      <td>ad</td>\n",
       "      <td>aixirivali</td>\n",
       "      <td>Aixirivali</td>\n",
       "      <td>06</td>\n",
       "      <td>NaN</td>\n",
       "      <td>42.466667</td>\n",
       "      <td>1.500000</td>\n",
       "    </tr>\n",
       "    <tr>\n",
       "      <th>2</th>\n",
       "      <td>ad</td>\n",
       "      <td>aixirivall</td>\n",
       "      <td>Aixirivall</td>\n",
       "      <td>06</td>\n",
       "      <td>NaN</td>\n",
       "      <td>42.466667</td>\n",
       "      <td>1.500000</td>\n",
       "    </tr>\n",
       "    <tr>\n",
       "      <th>3</th>\n",
       "      <td>ad</td>\n",
       "      <td>aixirvall</td>\n",
       "      <td>Aixirvall</td>\n",
       "      <td>06</td>\n",
       "      <td>NaN</td>\n",
       "      <td>42.466667</td>\n",
       "      <td>1.500000</td>\n",
       "    </tr>\n",
       "    <tr>\n",
       "      <th>4</th>\n",
       "      <td>ad</td>\n",
       "      <td>aixovall</td>\n",
       "      <td>Aixovall</td>\n",
       "      <td>06</td>\n",
       "      <td>NaN</td>\n",
       "      <td>42.466667</td>\n",
       "      <td>1.483333</td>\n",
       "    </tr>\n",
       "  </tbody>\n",
       "</table>\n",
       "</div>"
      ],
      "text/plain": [
       "  Country        City  AccentCity Region  Population   Latitude  Longitude\n",
       "0      ad       aixas       Aixàs     06         NaN  42.483333   1.466667\n",
       "1      ad  aixirivali  Aixirivali     06         NaN  42.466667   1.500000\n",
       "2      ad  aixirivall  Aixirivall     06         NaN  42.466667   1.500000\n",
       "3      ad   aixirvall   Aixirvall     06         NaN  42.466667   1.500000\n",
       "4      ad    aixovall    Aixovall     06         NaN  42.466667   1.483333"
      ]
     },
     "execution_count": 4,
     "metadata": {},
     "output_type": "execute_result"
    }
   ],
   "source": [
    "df.head()"
   ]
  },
  {
   "cell_type": "code",
   "execution_count": 5,
   "metadata": {},
   "outputs": [
    {
     "data": {
      "text/plain": [
       "(3173958, 7)"
      ]
     },
     "execution_count": 5,
     "metadata": {},
     "output_type": "execute_result"
    }
   ],
   "source": [
    "df.shape"
   ]
  },
  {
   "cell_type": "code",
   "execution_count": 6,
   "metadata": {},
   "outputs": [
    {
     "data": {
      "text/plain": [
       "Country        object\n",
       "City           object\n",
       "AccentCity     object\n",
       "Region         object\n",
       "Population    float64\n",
       "Latitude      float64\n",
       "Longitude     float64\n",
       "dtype: object"
      ]
     },
     "execution_count": 6,
     "metadata": {},
     "output_type": "execute_result"
    }
   ],
   "source": [
    "df.dtypes"
   ]
  },
  {
   "cell_type": "markdown",
   "metadata": {},
   "source": [
    "## 1. Missing Values"
   ]
  },
  {
   "cell_type": "code",
   "execution_count": 6,
   "metadata": {},
   "outputs": [
    {
     "data": {
      "text/plain": [
       "Country       False\n",
       "City           True\n",
       "AccentCity    False\n",
       "Region         True\n",
       "Population     True\n",
       "Latitude      False\n",
       "Longitude     False\n",
       "dtype: bool"
      ]
     },
     "execution_count": 6,
     "metadata": {},
     "output_type": "execute_result"
    }
   ],
   "source": [
    "df.isnull().any()"
   ]
  },
  {
   "cell_type": "code",
   "execution_count": 7,
   "metadata": {},
   "outputs": [
    {
     "data": {
      "text/plain": [
       "Country             0\n",
       "City                6\n",
       "AccentCity          0\n",
       "Region              8\n",
       "Population    3125978\n",
       "Latitude            0\n",
       "Longitude           0\n",
       "dtype: int64"
      ]
     },
     "execution_count": 7,
     "metadata": {},
     "output_type": "execute_result"
    }
   ],
   "source": [
    "df.isnull().sum()"
   ]
  },
  {
   "cell_type": "code",
   "execution_count": 10,
   "metadata": {},
   "outputs": [
    {
     "data": {
      "image/png": "[encoded data removed]",
      "text/plain": [
       "<matplotlib.figure.Figure at 0x206a996bbe0>"
      ]
     },
     "metadata": {},
     "output_type": "display_data"
    }
   ],
   "source": [
    "temp = df.isnull().sum().sort_values(ascending=False)\n",
    "plt.figure(figsize=(10,5))\n",
    "sns.barplot(temp.values, temp.index,color='Brown', orient='h')\n",
    "\n",
    "plt.show()"
   ]
  },
  {
   "cell_type": "markdown",
   "metadata": {},
   "source": [
    "### 1.1 Handling Missing Data"
   ]
  },
  {
   "cell_type": "code",
   "execution_count": 11,
   "metadata": {},
   "outputs": [
    {
     "data": {
      "text/html": [
       "<div>\n",
       "<style>\n",
       "    .dataframe thead tr:only-child th {\n",
       "        text-align: right;\n",
       "    }\n",
       "\n",
       "    .dataframe thead th {\n",
       "        text-align: left;\n",
       "    }\n",
       "\n",
       "    .dataframe tbody tr th {\n",
       "        vertical-align: top;\n",
       "    }\n",
       "</style>\n",
       "<table border=\"1\" class=\"dataframe\">\n",
       "  <thead>\n",
       "    <tr style=\"text-align: right;\">\n",
       "      <th></th>\n",
       "      <th>Country</th>\n",
       "      <th>City</th>\n",
       "      <th>AccentCity</th>\n",
       "      <th>Region</th>\n",
       "      <th>Population</th>\n",
       "      <th>Latitude</th>\n",
       "      <th>Longitude</th>\n",
       "    </tr>\n",
       "  </thead>\n",
       "  <tbody>\n",
       "    <tr>\n",
       "      <th>6</th>\n",
       "      <td>ad</td>\n",
       "      <td>andorra la vella</td>\n",
       "      <td>Andorra la Vella</td>\n",
       "      <td>07</td>\n",
       "      <td>20430.0</td>\n",
       "      <td>42.500000</td>\n",
       "      <td>1.516667</td>\n",
       "    </tr>\n",
       "    <tr>\n",
       "      <th>20</th>\n",
       "      <td>ad</td>\n",
       "      <td>canillo</td>\n",
       "      <td>Canillo</td>\n",
       "      <td>02</td>\n",
       "      <td>3292.0</td>\n",
       "      <td>42.566667</td>\n",
       "      <td>1.600000</td>\n",
       "    </tr>\n",
       "    <tr>\n",
       "      <th>32</th>\n",
       "      <td>ad</td>\n",
       "      <td>encamp</td>\n",
       "      <td>Encamp</td>\n",
       "      <td>03</td>\n",
       "      <td>11224.0</td>\n",
       "      <td>42.533333</td>\n",
       "      <td>1.583333</td>\n",
       "    </tr>\n",
       "    <tr>\n",
       "      <th>49</th>\n",
       "      <td>ad</td>\n",
       "      <td>la massana</td>\n",
       "      <td>La Massana</td>\n",
       "      <td>04</td>\n",
       "      <td>7211.0</td>\n",
       "      <td>42.550000</td>\n",
       "      <td>1.516667</td>\n",
       "    </tr>\n",
       "    <tr>\n",
       "      <th>53</th>\n",
       "      <td>ad</td>\n",
       "      <td>les escaldes</td>\n",
       "      <td>Les Escaldes</td>\n",
       "      <td>08</td>\n",
       "      <td>15854.0</td>\n",
       "      <td>42.500000</td>\n",
       "      <td>1.533333</td>\n",
       "    </tr>\n",
       "  </tbody>\n",
       "</table>\n",
       "</div>"
      ],
      "text/plain": [
       "   Country              City        AccentCity Region  Population   Latitude  \\\n",
       "6       ad  andorra la vella  Andorra la Vella     07     20430.0  42.500000   \n",
       "20      ad           canillo           Canillo     02      3292.0  42.566667   \n",
       "32      ad            encamp            Encamp     03     11224.0  42.533333   \n",
       "49      ad        la massana        La Massana     04      7211.0  42.550000   \n",
       "53      ad      les escaldes      Les Escaldes     08     15854.0  42.500000   \n",
       "\n",
       "    Longitude  \n",
       "6    1.516667  \n",
       "20   1.600000  \n",
       "32   1.583333  \n",
       "49   1.516667  \n",
       "53   1.533333  "
      ]
     },
     "execution_count": 11,
     "metadata": {},
     "output_type": "execute_result"
    }
   ],
   "source": [
    "df_clean = df.dropna()\n",
    "df_clean.head()"
   ]
  },
  {
   "cell_type": "code",
   "execution_count": 12,
   "metadata": {},
   "outputs": [
    {
     "data": {
      "text/plain": [
       "Country       False\n",
       "City          False\n",
       "AccentCity    False\n",
       "Region        False\n",
       "Population    False\n",
       "Latitude      False\n",
       "Longitude     False\n",
       "dtype: bool"
      ]
     },
     "execution_count": 12,
     "metadata": {},
     "output_type": "execute_result"
    }
   ],
   "source": [
    "df_clean.isnull().any()"
   ]
  },
  {
   "cell_type": "code",
   "execution_count": 13,
   "metadata": {},
   "outputs": [
    {
     "data": {
      "text/plain": [
       "((3173958, 7), (47979, 7), 3125979)"
      ]
     },
     "execution_count": 13,
     "metadata": {},
     "output_type": "execute_result"
    }
   ],
   "source": [
    "df.shape, df_clean.shape, (df.shape[0] - df_clean.shape[0])"
   ]
  },
  {
   "cell_type": "markdown",
   "metadata": {},
   "source": [
    "### 1.2 Filling Missing Data"
   ]
  },
  {
   "cell_type": "code",
   "execution_count": 14,
   "metadata": {},
   "outputs": [],
   "source": [
    "df_filled = df.copy()\n",
    "df_filled['Population'] = df_filled['Population'].fillna(df_filled['Population'].min())"
   ]
  },
  {
   "cell_type": "code",
   "execution_count": 15,
   "metadata": {},
   "outputs": [
    {
     "data": {
      "text/html": [
       "<div>\n",
       "<style>\n",
       "    .dataframe thead tr:only-child th {\n",
       "        text-align: right;\n",
       "    }\n",
       "\n",
       "    .dataframe thead th {\n",
       "        text-align: left;\n",
       "    }\n",
       "\n",
       "    .dataframe tbody tr th {\n",
       "        vertical-align: top;\n",
       "    }\n",
       "</style>\n",
       "<table border=\"1\" class=\"dataframe\">\n",
       "  <thead>\n",
       "    <tr style=\"text-align: right;\">\n",
       "      <th></th>\n",
       "      <th>Country</th>\n",
       "      <th>City</th>\n",
       "      <th>AccentCity</th>\n",
       "      <th>Region</th>\n",
       "      <th>Population</th>\n",
       "      <th>Latitude</th>\n",
       "      <th>Longitude</th>\n",
       "    </tr>\n",
       "  </thead>\n",
       "  <tbody>\n",
       "    <tr>\n",
       "      <th>0</th>\n",
       "      <td>ad</td>\n",
       "      <td>aixas</td>\n",
       "      <td>Aixàs</td>\n",
       "      <td>06</td>\n",
       "      <td>7.0</td>\n",
       "      <td>42.483333</td>\n",
       "      <td>1.466667</td>\n",
       "    </tr>\n",
       "    <tr>\n",
       "      <th>1</th>\n",
       "      <td>ad</td>\n",
       "      <td>aixirivali</td>\n",
       "      <td>Aixirivali</td>\n",
       "      <td>06</td>\n",
       "      <td>7.0</td>\n",
       "      <td>42.466667</td>\n",
       "      <td>1.500000</td>\n",
       "    </tr>\n",
       "    <tr>\n",
       "      <th>2</th>\n",
       "      <td>ad</td>\n",
       "      <td>aixirivall</td>\n",
       "      <td>Aixirivall</td>\n",
       "      <td>06</td>\n",
       "      <td>7.0</td>\n",
       "      <td>42.466667</td>\n",
       "      <td>1.500000</td>\n",
       "    </tr>\n",
       "    <tr>\n",
       "      <th>3</th>\n",
       "      <td>ad</td>\n",
       "      <td>aixirvall</td>\n",
       "      <td>Aixirvall</td>\n",
       "      <td>06</td>\n",
       "      <td>7.0</td>\n",
       "      <td>42.466667</td>\n",
       "      <td>1.500000</td>\n",
       "    </tr>\n",
       "    <tr>\n",
       "      <th>4</th>\n",
       "      <td>ad</td>\n",
       "      <td>aixovall</td>\n",
       "      <td>Aixovall</td>\n",
       "      <td>06</td>\n",
       "      <td>7.0</td>\n",
       "      <td>42.466667</td>\n",
       "      <td>1.483333</td>\n",
       "    </tr>\n",
       "  </tbody>\n",
       "</table>\n",
       "</div>"
      ],
      "text/plain": [
       "  Country        City  AccentCity Region  Population   Latitude  Longitude\n",
       "0      ad       aixas       Aixàs     06         7.0  42.483333   1.466667\n",
       "1      ad  aixirivali  Aixirivali     06         7.0  42.466667   1.500000\n",
       "2      ad  aixirivall  Aixirivall     06         7.0  42.466667   1.500000\n",
       "3      ad   aixirvall   Aixirvall     06         7.0  42.466667   1.500000\n",
       "4      ad    aixovall    Aixovall     06         7.0  42.466667   1.483333"
      ]
     },
     "execution_count": 15,
     "metadata": {},
     "output_type": "execute_result"
    }
   ],
   "source": [
    "df_filled.head()"
   ]
  },
  {
   "cell_type": "code",
   "execution_count": 16,
   "metadata": {},
   "outputs": [
    {
     "data": {
      "text/plain": [
       "Country       False\n",
       "City           True\n",
       "AccentCity    False\n",
       "Region         True\n",
       "Population    False\n",
       "Latitude      False\n",
       "Longitude     False\n",
       "dtype: bool"
      ]
     },
     "execution_count": 16,
     "metadata": {},
     "output_type": "execute_result"
    }
   ],
   "source": [
    "df_filled.isnull().any()"
   ]
  },
  {
   "cell_type": "code",
   "execution_count": 26,
   "metadata": {},
   "outputs": [
    {
     "data": {
      "text/plain": [
       "Region        8\n",
       "City          6\n",
       "Longitude     0\n",
       "Latitude      0\n",
       "Population    0\n",
       "AccentCity    0\n",
       "Country       0\n",
       "dtype: int64"
      ]
     },
     "execution_count": 26,
     "metadata": {},
     "output_type": "execute_result"
    }
   ],
   "source": [
    "df_filled.isnull().sum().sort_values(ascending=False)"
   ]
  },
  {
   "cell_type": "code",
   "execution_count": 17,
   "metadata": {},
   "outputs": [
    {
     "data": {
      "text/plain": [
       "(3173958, 7)"
      ]
     },
     "execution_count": 17,
     "metadata": {},
     "output_type": "execute_result"
    }
   ],
   "source": [
    "df.shape"
   ]
  },
  {
   "cell_type": "code",
   "execution_count": 18,
   "metadata": {},
   "outputs": [],
   "source": [
    "df_filled_dropped = df_filled.dropna()"
   ]
  },
  {
   "cell_type": "code",
   "execution_count": 19,
   "metadata": {},
   "outputs": [
    {
     "data": {
      "text/plain": [
       "(3173944, 7)"
      ]
     },
     "execution_count": 19,
     "metadata": {},
     "output_type": "execute_result"
    }
   ],
   "source": [
    "df_filled_dropped.shape"
   ]
  },
  {
   "cell_type": "code",
   "execution_count": 30,
   "metadata": {},
   "outputs": [
    {
     "data": {
      "text/plain": [
       "Country       False\n",
       "City          False\n",
       "AccentCity    False\n",
       "Region        False\n",
       "Population    False\n",
       "Latitude      False\n",
       "Longitude     False\n",
       "dtype: bool"
      ]
     },
     "execution_count": 30,
     "metadata": {},
     "output_type": "execute_result"
    }
   ],
   "source": [
    "df_filled_dropped.isnull().any()"
   ]
  },
  {
   "cell_type": "markdown",
   "metadata": {},
   "source": [
    "## 2. Selecting Subsets"
   ]
  },
  {
   "cell_type": "code",
   "execution_count": 20,
   "metadata": {},
   "outputs": [],
   "source": [
    "df_subset = df_clean[['City', 'Population']]"
   ]
  },
  {
   "cell_type": "code",
   "execution_count": 21,
   "metadata": {},
   "outputs": [
    {
     "data": {
      "text/html": [
       "<div>\n",
       "<style>\n",
       "    .dataframe thead tr:only-child th {\n",
       "        text-align: right;\n",
       "    }\n",
       "\n",
       "    .dataframe thead th {\n",
       "        text-align: left;\n",
       "    }\n",
       "\n",
       "    .dataframe tbody tr th {\n",
       "        vertical-align: top;\n",
       "    }\n",
       "</style>\n",
       "<table border=\"1\" class=\"dataframe\">\n",
       "  <thead>\n",
       "    <tr style=\"text-align: right;\">\n",
       "      <th></th>\n",
       "      <th>City</th>\n",
       "      <th>Population</th>\n",
       "    </tr>\n",
       "  </thead>\n",
       "  <tbody>\n",
       "    <tr>\n",
       "      <th>6</th>\n",
       "      <td>andorra la vella</td>\n",
       "      <td>20430.0</td>\n",
       "    </tr>\n",
       "    <tr>\n",
       "      <th>20</th>\n",
       "      <td>canillo</td>\n",
       "      <td>3292.0</td>\n",
       "    </tr>\n",
       "    <tr>\n",
       "      <th>32</th>\n",
       "      <td>encamp</td>\n",
       "      <td>11224.0</td>\n",
       "    </tr>\n",
       "    <tr>\n",
       "      <th>49</th>\n",
       "      <td>la massana</td>\n",
       "      <td>7211.0</td>\n",
       "    </tr>\n",
       "    <tr>\n",
       "      <th>53</th>\n",
       "      <td>les escaldes</td>\n",
       "      <td>15854.0</td>\n",
       "    </tr>\n",
       "    <tr>\n",
       "      <th>66</th>\n",
       "      <td>ordino</td>\n",
       "      <td>2553.0</td>\n",
       "    </tr>\n",
       "    <tr>\n",
       "      <th>80</th>\n",
       "      <td>sant julia de loria</td>\n",
       "      <td>8020.0</td>\n",
       "    </tr>\n",
       "  </tbody>\n",
       "</table>\n",
       "</div>"
      ],
      "text/plain": [
       "                   City  Population\n",
       "6      andorra la vella     20430.0\n",
       "20              canillo      3292.0\n",
       "32               encamp     11224.0\n",
       "49           la massana      7211.0\n",
       "53         les escaldes     15854.0\n",
       "66               ordino      2553.0\n",
       "80  sant julia de loria      8020.0"
      ]
     },
     "execution_count": 21,
     "metadata": {},
     "output_type": "execute_result"
    }
   ],
   "source": [
    "df_subset.head(7)"
   ]
  },
  {
   "cell_type": "code",
   "execution_count": 26,
   "metadata": {},
   "outputs": [
    {
     "data": {
      "text/html": [
       "<div>\n",
       "<style>\n",
       "    .dataframe thead tr:only-child th {\n",
       "        text-align: right;\n",
       "    }\n",
       "\n",
       "    .dataframe thead th {\n",
       "        text-align: left;\n",
       "    }\n",
       "\n",
       "    .dataframe tbody tr th {\n",
       "        vertical-align: top;\n",
       "    }\n",
       "</style>\n",
       "<table border=\"1\" class=\"dataframe\">\n",
       "  <thead>\n",
       "    <tr style=\"text-align: right;\">\n",
       "      <th></th>\n",
       "      <th>Country</th>\n",
       "      <th>City</th>\n",
       "      <th>AccentCity</th>\n",
       "      <th>Region</th>\n",
       "      <th>Population</th>\n",
       "      <th>Latitude</th>\n",
       "      <th>Longitude</th>\n",
       "    </tr>\n",
       "  </thead>\n",
       "  <tbody>\n",
       "    <tr>\n",
       "      <th>316800</th>\n",
       "      <td>br</td>\n",
       "      <td>sao paulo</td>\n",
       "      <td>São Paulo</td>\n",
       "      <td>27</td>\n",
       "      <td>10021437.0</td>\n",
       "      <td>-23.473293</td>\n",
       "      <td>-46.665803</td>\n",
       "    </tr>\n",
       "    <tr>\n",
       "      <th>570824</th>\n",
       "      <td>cn</td>\n",
       "      <td>shanghai</td>\n",
       "      <td>Shanghai</td>\n",
       "      <td>23</td>\n",
       "      <td>14608512.0</td>\n",
       "      <td>31.045556</td>\n",
       "      <td>121.399722</td>\n",
       "    </tr>\n",
       "    <tr>\n",
       "      <th>1327914</th>\n",
       "      <td>in</td>\n",
       "      <td>bombay</td>\n",
       "      <td>Bombay</td>\n",
       "      <td>16</td>\n",
       "      <td>12692717.0</td>\n",
       "      <td>18.975000</td>\n",
       "      <td>72.825833</td>\n",
       "    </tr>\n",
       "    <tr>\n",
       "      <th>1331162</th>\n",
       "      <td>in</td>\n",
       "      <td>delhi</td>\n",
       "      <td>Delhi</td>\n",
       "      <td>07</td>\n",
       "      <td>10928270.0</td>\n",
       "      <td>28.666667</td>\n",
       "      <td>77.216667</td>\n",
       "    </tr>\n",
       "    <tr>\n",
       "      <th>1349146</th>\n",
       "      <td>in</td>\n",
       "      <td>new delhi</td>\n",
       "      <td>New Delhi</td>\n",
       "      <td>07</td>\n",
       "      <td>10928270.0</td>\n",
       "      <td>28.600000</td>\n",
       "      <td>77.200000</td>\n",
       "    </tr>\n",
       "    <tr>\n",
       "      <th>1544449</th>\n",
       "      <td>jp</td>\n",
       "      <td>tokyo</td>\n",
       "      <td>Tokyo</td>\n",
       "      <td>40</td>\n",
       "      <td>31480498.0</td>\n",
       "      <td>35.685000</td>\n",
       "      <td>139.751389</td>\n",
       "    </tr>\n",
       "    <tr>\n",
       "      <th>1626528</th>\n",
       "      <td>kr</td>\n",
       "      <td>seoul</td>\n",
       "      <td>Seoul</td>\n",
       "      <td>11</td>\n",
       "      <td>10323448.0</td>\n",
       "      <td>37.598500</td>\n",
       "      <td>126.978300</td>\n",
       "    </tr>\n",
       "    <tr>\n",
       "      <th>2130459</th>\n",
       "      <td>ph</td>\n",
       "      <td>manila</td>\n",
       "      <td>Manila</td>\n",
       "      <td>D9</td>\n",
       "      <td>10443877.0</td>\n",
       "      <td>14.604200</td>\n",
       "      <td>120.982200</td>\n",
       "    </tr>\n",
       "    <tr>\n",
       "      <th>2200161</th>\n",
       "      <td>pk</td>\n",
       "      <td>karachi</td>\n",
       "      <td>Karachi</td>\n",
       "      <td>05</td>\n",
       "      <td>11627378.0</td>\n",
       "      <td>24.905600</td>\n",
       "      <td>67.082200</td>\n",
       "    </tr>\n",
       "    <tr>\n",
       "      <th>2461968</th>\n",
       "      <td>ru</td>\n",
       "      <td>moscow</td>\n",
       "      <td>Moscow</td>\n",
       "      <td>48</td>\n",
       "      <td>10381288.0</td>\n",
       "      <td>55.752222</td>\n",
       "      <td>37.615556</td>\n",
       "    </tr>\n",
       "  </tbody>\n",
       "</table>\n",
       "</div>"
      ],
      "text/plain": [
       "        Country       City AccentCity Region  Population   Latitude  \\\n",
       "316800       br  sao paulo  São Paulo     27  10021437.0 -23.473293   \n",
       "570824       cn   shanghai   Shanghai     23  14608512.0  31.045556   \n",
       "1327914      in     bombay     Bombay     16  12692717.0  18.975000   \n",
       "1331162      in      delhi      Delhi     07  10928270.0  28.666667   \n",
       "1349146      in  new delhi  New Delhi     07  10928270.0  28.600000   \n",
       "1544449      jp      tokyo      Tokyo     40  31480498.0  35.685000   \n",
       "1626528      kr      seoul      Seoul     11  10323448.0  37.598500   \n",
       "2130459      ph     manila     Manila     D9  10443877.0  14.604200   \n",
       "2200161      pk    karachi    Karachi     05  11627378.0  24.905600   \n",
       "2461968      ru     moscow     Moscow     48  10381288.0  55.752222   \n",
       "\n",
       "          Longitude  \n",
       "316800   -46.665803  \n",
       "570824   121.399722  \n",
       "1327914   72.825833  \n",
       "1331162   77.216667  \n",
       "1349146   77.200000  \n",
       "1544449  139.751389  \n",
       "1626528  126.978300  \n",
       "2130459  120.982200  \n",
       "2200161   67.082200  \n",
       "2461968   37.615556  "
      ]
     },
     "execution_count": 26,
     "metadata": {},
     "output_type": "execute_result"
    }
   ],
   "source": [
    "pop_greater_10m = df_clean[df_clean['Population']> 10000000]\n",
    "pop_greater_10m"
   ]
  },
  {
   "cell_type": "markdown",
   "metadata": {},
   "source": [
    "## 3. Slicing\n",
    "\n"
   ]
  },
  {
   "cell_type": "code",
   "execution_count": 30,
   "metadata": {},
   "outputs": [],
   "source": [
    "pop_10m_sorted = pop_greater_10m.sort_values(by='Population', ascending=False)"
   ]
  },
  {
   "cell_type": "code",
   "execution_count": 32,
   "metadata": {},
   "outputs": [
    {
     "data": {
      "text/html": [
       "<div>\n",
       "<style>\n",
       "    .dataframe thead tr:only-child th {\n",
       "        text-align: right;\n",
       "    }\n",
       "\n",
       "    .dataframe thead th {\n",
       "        text-align: left;\n",
       "    }\n",
       "\n",
       "    .dataframe tbody tr th {\n",
       "        vertical-align: top;\n",
       "    }\n",
       "</style>\n",
       "<table border=\"1\" class=\"dataframe\">\n",
       "  <thead>\n",
       "    <tr style=\"text-align: right;\">\n",
       "      <th></th>\n",
       "      <th>Country</th>\n",
       "      <th>City</th>\n",
       "      <th>AccentCity</th>\n",
       "      <th>Region</th>\n",
       "      <th>Population</th>\n",
       "      <th>Latitude</th>\n",
       "      <th>Longitude</th>\n",
       "    </tr>\n",
       "  </thead>\n",
       "  <tbody>\n",
       "    <tr>\n",
       "      <th>1544449</th>\n",
       "      <td>jp</td>\n",
       "      <td>tokyo</td>\n",
       "      <td>Tokyo</td>\n",
       "      <td>40</td>\n",
       "      <td>31480498.0</td>\n",
       "      <td>35.685000</td>\n",
       "      <td>139.751389</td>\n",
       "    </tr>\n",
       "    <tr>\n",
       "      <th>570824</th>\n",
       "      <td>cn</td>\n",
       "      <td>shanghai</td>\n",
       "      <td>Shanghai</td>\n",
       "      <td>23</td>\n",
       "      <td>14608512.0</td>\n",
       "      <td>31.045556</td>\n",
       "      <td>121.399722</td>\n",
       "    </tr>\n",
       "    <tr>\n",
       "      <th>1327914</th>\n",
       "      <td>in</td>\n",
       "      <td>bombay</td>\n",
       "      <td>Bombay</td>\n",
       "      <td>16</td>\n",
       "      <td>12692717.0</td>\n",
       "      <td>18.975000</td>\n",
       "      <td>72.825833</td>\n",
       "    </tr>\n",
       "  </tbody>\n",
       "</table>\n",
       "</div>"
      ],
      "text/plain": [
       "        Country      City AccentCity Region  Population   Latitude   Longitude\n",
       "1544449      jp     tokyo      Tokyo     40  31480498.0  35.685000  139.751389\n",
       "570824       cn  shanghai   Shanghai     23  14608512.0  31.045556  121.399722\n",
       "1327914      in    bombay     Bombay     16  12692717.0  18.975000   72.825833"
      ]
     },
     "execution_count": 32,
     "metadata": {},
     "output_type": "execute_result"
    }
   ],
   "source": [
    "pop_10m_sorted[:3]"
   ]
  },
  {
   "cell_type": "code",
   "execution_count": 64,
   "metadata": {},
   "outputs": [
    {
     "data": {
      "text/html": [
       "<div>\n",
       "<style>\n",
       "    .dataframe thead tr:only-child th {\n",
       "        text-align: right;\n",
       "    }\n",
       "\n",
       "    .dataframe thead th {\n",
       "        text-align: left;\n",
       "    }\n",
       "\n",
       "    .dataframe tbody tr th {\n",
       "        vertical-align: top;\n",
       "    }\n",
       "</style>\n",
       "<table border=\"1\" class=\"dataframe\">\n",
       "  <thead>\n",
       "    <tr style=\"text-align: right;\">\n",
       "      <th></th>\n",
       "      <th>Country</th>\n",
       "      <th>City</th>\n",
       "      <th>AccentCity</th>\n",
       "      <th>Region</th>\n",
       "      <th>Population</th>\n",
       "      <th>Latitude</th>\n",
       "      <th>Longitude</th>\n",
       "    </tr>\n",
       "  </thead>\n",
       "  <tbody>\n",
       "    <tr>\n",
       "      <th>316800</th>\n",
       "      <td>br</td>\n",
       "      <td>sao paulo</td>\n",
       "      <td>São Paulo</td>\n",
       "      <td>27</td>\n",
       "      <td>10021437.0</td>\n",
       "      <td>-23.473293</td>\n",
       "      <td>-46.665803</td>\n",
       "    </tr>\n",
       "    <tr>\n",
       "      <th>1327914</th>\n",
       "      <td>in</td>\n",
       "      <td>bombay</td>\n",
       "      <td>Bombay</td>\n",
       "      <td>16</td>\n",
       "      <td>12692717.0</td>\n",
       "      <td>18.975000</td>\n",
       "      <td>72.825833</td>\n",
       "    </tr>\n",
       "    <tr>\n",
       "      <th>1349146</th>\n",
       "      <td>in</td>\n",
       "      <td>new delhi</td>\n",
       "      <td>New Delhi</td>\n",
       "      <td>07</td>\n",
       "      <td>10928270.0</td>\n",
       "      <td>28.600000</td>\n",
       "      <td>77.200000</td>\n",
       "    </tr>\n",
       "    <tr>\n",
       "      <th>1626528</th>\n",
       "      <td>kr</td>\n",
       "      <td>seoul</td>\n",
       "      <td>Seoul</td>\n",
       "      <td>11</td>\n",
       "      <td>10323448.0</td>\n",
       "      <td>37.598500</td>\n",
       "      <td>126.978300</td>\n",
       "    </tr>\n",
       "    <tr>\n",
       "      <th>2200161</th>\n",
       "      <td>pk</td>\n",
       "      <td>karachi</td>\n",
       "      <td>Karachi</td>\n",
       "      <td>05</td>\n",
       "      <td>11627378.0</td>\n",
       "      <td>24.905600</td>\n",
       "      <td>67.082200</td>\n",
       "    </tr>\n",
       "  </tbody>\n",
       "</table>\n",
       "</div>"
      ],
      "text/plain": [
       "        Country       City AccentCity Region  Population   Latitude  \\\n",
       "316800       br  sao paulo  São Paulo     27  10021437.0 -23.473293   \n",
       "1327914      in     bombay     Bombay     16  12692717.0  18.975000   \n",
       "1349146      in  new delhi  New Delhi     07  10928270.0  28.600000   \n",
       "1626528      kr      seoul      Seoul     11  10323448.0  37.598500   \n",
       "2200161      pk    karachi    Karachi     05  11627378.0  24.905600   \n",
       "\n",
       "          Longitude  \n",
       "316800   -46.665803  \n",
       "1327914   72.825833  \n",
       "1349146   77.200000  \n",
       "1626528  126.978300  \n",
       "2200161   67.082200  "
      ]
     },
     "execution_count": 64,
     "metadata": {},
     "output_type": "execute_result"
    }
   ],
   "source": [
    "pop_greater_10m[::2]"
   ]
  },
  {
   "cell_type": "code",
   "execution_count": 65,
   "metadata": {},
   "outputs": [
    {
     "data": {
      "text/html": [
       "<div>\n",
       "<style>\n",
       "    .dataframe thead tr:only-child th {\n",
       "        text-align: right;\n",
       "    }\n",
       "\n",
       "    .dataframe thead th {\n",
       "        text-align: left;\n",
       "    }\n",
       "\n",
       "    .dataframe tbody tr th {\n",
       "        vertical-align: top;\n",
       "    }\n",
       "</style>\n",
       "<table border=\"1\" class=\"dataframe\">\n",
       "  <thead>\n",
       "    <tr style=\"text-align: right;\">\n",
       "      <th></th>\n",
       "      <th>Country</th>\n",
       "      <th>City</th>\n",
       "      <th>AccentCity</th>\n",
       "      <th>Region</th>\n",
       "      <th>Population</th>\n",
       "      <th>Latitude</th>\n",
       "      <th>Longitude</th>\n",
       "    </tr>\n",
       "  </thead>\n",
       "  <tbody>\n",
       "    <tr>\n",
       "      <th>2461968</th>\n",
       "      <td>ru</td>\n",
       "      <td>moscow</td>\n",
       "      <td>Moscow</td>\n",
       "      <td>48</td>\n",
       "      <td>10381288.0</td>\n",
       "      <td>55.752222</td>\n",
       "      <td>37.615556</td>\n",
       "    </tr>\n",
       "    <tr>\n",
       "      <th>2130459</th>\n",
       "      <td>ph</td>\n",
       "      <td>manila</td>\n",
       "      <td>Manila</td>\n",
       "      <td>D9</td>\n",
       "      <td>10443877.0</td>\n",
       "      <td>14.604200</td>\n",
       "      <td>120.982200</td>\n",
       "    </tr>\n",
       "    <tr>\n",
       "      <th>1544449</th>\n",
       "      <td>jp</td>\n",
       "      <td>tokyo</td>\n",
       "      <td>Tokyo</td>\n",
       "      <td>40</td>\n",
       "      <td>31480498.0</td>\n",
       "      <td>35.685000</td>\n",
       "      <td>139.751389</td>\n",
       "    </tr>\n",
       "    <tr>\n",
       "      <th>1331162</th>\n",
       "      <td>in</td>\n",
       "      <td>delhi</td>\n",
       "      <td>Delhi</td>\n",
       "      <td>07</td>\n",
       "      <td>10928270.0</td>\n",
       "      <td>28.666667</td>\n",
       "      <td>77.216667</td>\n",
       "    </tr>\n",
       "    <tr>\n",
       "      <th>570824</th>\n",
       "      <td>cn</td>\n",
       "      <td>shanghai</td>\n",
       "      <td>Shanghai</td>\n",
       "      <td>23</td>\n",
       "      <td>14608512.0</td>\n",
       "      <td>31.045556</td>\n",
       "      <td>121.399722</td>\n",
       "    </tr>\n",
       "  </tbody>\n",
       "</table>\n",
       "</div>"
      ],
      "text/plain": [
       "        Country      City AccentCity Region  Population   Latitude   Longitude\n",
       "2461968      ru    moscow     Moscow     48  10381288.0  55.752222   37.615556\n",
       "2130459      ph    manila     Manila     D9  10443877.0  14.604200  120.982200\n",
       "1544449      jp     tokyo      Tokyo     40  31480498.0  35.685000  139.751389\n",
       "1331162      in     delhi      Delhi     07  10928270.0  28.666667   77.216667\n",
       "570824       cn  shanghai   Shanghai     23  14608512.0  31.045556  121.399722"
      ]
     },
     "execution_count": 65,
     "metadata": {},
     "output_type": "execute_result"
    }
   ],
   "source": [
    "pop_greater_10m[::-2]"
   ]
  },
  {
   "cell_type": "markdown",
   "metadata": {},
   "source": [
    "## 4. Delete Columns"
   ]
  },
  {
   "cell_type": "code",
   "execution_count": 67,
   "metadata": {},
   "outputs": [
    {
     "data": {
      "text/html": [
       "<div>\n",
       "<style>\n",
       "    .dataframe thead tr:only-child th {\n",
       "        text-align: right;\n",
       "    }\n",
       "\n",
       "    .dataframe thead th {\n",
       "        text-align: left;\n",
       "    }\n",
       "\n",
       "    .dataframe tbody tr th {\n",
       "        vertical-align: top;\n",
       "    }\n",
       "</style>\n",
       "<table border=\"1\" class=\"dataframe\">\n",
       "  <thead>\n",
       "    <tr style=\"text-align: right;\">\n",
       "      <th></th>\n",
       "      <th>Country</th>\n",
       "      <th>City</th>\n",
       "      <th>AccentCity</th>\n",
       "      <th>Region</th>\n",
       "      <th>Population</th>\n",
       "    </tr>\n",
       "  </thead>\n",
       "  <tbody>\n",
       "    <tr>\n",
       "      <th>316800</th>\n",
       "      <td>br</td>\n",
       "      <td>sao paulo</td>\n",
       "      <td>São Paulo</td>\n",
       "      <td>27</td>\n",
       "      <td>10021437.0</td>\n",
       "    </tr>\n",
       "    <tr>\n",
       "      <th>570824</th>\n",
       "      <td>cn</td>\n",
       "      <td>shanghai</td>\n",
       "      <td>Shanghai</td>\n",
       "      <td>23</td>\n",
       "      <td>14608512.0</td>\n",
       "    </tr>\n",
       "  </tbody>\n",
       "</table>\n",
       "</div>"
      ],
      "text/plain": [
       "       Country       City AccentCity Region  Population\n",
       "316800      br  sao paulo  São Paulo     27  10021437.0\n",
       "570824      cn   shanghai   Shanghai     23  14608512.0"
      ]
     },
     "execution_count": 67,
     "metadata": {},
     "output_type": "execute_result"
    }
   ],
   "source": [
    "pop_greater_10m.drop(['Latitude', 'Longitude'], axis=1).head(2)"
   ]
  },
  {
   "cell_type": "code",
   "execution_count": 68,
   "metadata": {},
   "outputs": [
    {
     "data": {
      "text/html": [
       "<div>\n",
       "<style>\n",
       "    .dataframe thead tr:only-child th {\n",
       "        text-align: right;\n",
       "    }\n",
       "\n",
       "    .dataframe thead th {\n",
       "        text-align: left;\n",
       "    }\n",
       "\n",
       "    .dataframe tbody tr th {\n",
       "        vertical-align: top;\n",
       "    }\n",
       "</style>\n",
       "<table border=\"1\" class=\"dataframe\">\n",
       "  <thead>\n",
       "    <tr style=\"text-align: right;\">\n",
       "      <th></th>\n",
       "      <th>Country</th>\n",
       "      <th>City</th>\n",
       "      <th>Region</th>\n",
       "      <th>Population</th>\n",
       "      <th>Latitude</th>\n",
       "      <th>Longitude</th>\n",
       "    </tr>\n",
       "  </thead>\n",
       "  <tbody>\n",
       "    <tr>\n",
       "      <th>316800</th>\n",
       "      <td>br</td>\n",
       "      <td>sao paulo</td>\n",
       "      <td>27</td>\n",
       "      <td>10021437.0</td>\n",
       "      <td>-23.473293</td>\n",
       "      <td>-46.665803</td>\n",
       "    </tr>\n",
       "    <tr>\n",
       "      <th>570824</th>\n",
       "      <td>cn</td>\n",
       "      <td>shanghai</td>\n",
       "      <td>23</td>\n",
       "      <td>14608512.0</td>\n",
       "      <td>31.045556</td>\n",
       "      <td>121.399722</td>\n",
       "    </tr>\n",
       "  </tbody>\n",
       "</table>\n",
       "</div>"
      ],
      "text/plain": [
       "       Country       City Region  Population   Latitude   Longitude\n",
       "316800      br  sao paulo     27  10021437.0 -23.473293  -46.665803\n",
       "570824      cn   shanghai     23  14608512.0  31.045556  121.399722"
      ]
     },
     "execution_count": 68,
     "metadata": {},
     "output_type": "execute_result"
    }
   ],
   "source": [
    "del pop_greater_10m['AccentCity']\n",
    "pop_greater_10m.head(2)\n"
   ]
  },
  {
   "cell_type": "code",
   "execution_count": 33,
   "metadata": {},
   "outputs": [
    {
     "data": {
      "text/html": [
       "<div>\n",
       "<style>\n",
       "    .dataframe thead tr:only-child th {\n",
       "        text-align: right;\n",
       "    }\n",
       "\n",
       "    .dataframe thead th {\n",
       "        text-align: left;\n",
       "    }\n",
       "\n",
       "    .dataframe tbody tr th {\n",
       "        vertical-align: top;\n",
       "    }\n",
       "</style>\n",
       "<table border=\"1\" class=\"dataframe\">\n",
       "  <thead>\n",
       "    <tr style=\"text-align: right;\">\n",
       "      <th></th>\n",
       "      <th>Country</th>\n",
       "      <th>City</th>\n",
       "      <th>AccentCity</th>\n",
       "      <th>Region</th>\n",
       "      <th>Population</th>\n",
       "      <th>Latitude</th>\n",
       "      <th>Longitude</th>\n",
       "    </tr>\n",
       "  </thead>\n",
       "  <tbody>\n",
       "    <tr>\n",
       "      <th>316800</th>\n",
       "      <td>br</td>\n",
       "      <td>sao paulo</td>\n",
       "      <td>São Paulo</td>\n",
       "      <td>27</td>\n",
       "      <td>10021437.0</td>\n",
       "      <td>-23.473293</td>\n",
       "      <td>-46.665803</td>\n",
       "    </tr>\n",
       "    <tr>\n",
       "      <th>570824</th>\n",
       "      <td>cn</td>\n",
       "      <td>shanghai</td>\n",
       "      <td>Shanghai</td>\n",
       "      <td>23</td>\n",
       "      <td>14608512.0</td>\n",
       "      <td>31.045556</td>\n",
       "      <td>121.399722</td>\n",
       "    </tr>\n",
       "    <tr>\n",
       "      <th>1327914</th>\n",
       "      <td>in</td>\n",
       "      <td>bombay</td>\n",
       "      <td>Bombay</td>\n",
       "      <td>16</td>\n",
       "      <td>12692717.0</td>\n",
       "      <td>18.975000</td>\n",
       "      <td>72.825833</td>\n",
       "    </tr>\n",
       "    <tr>\n",
       "      <th>1331162</th>\n",
       "      <td>in</td>\n",
       "      <td>delhi</td>\n",
       "      <td>Delhi</td>\n",
       "      <td>07</td>\n",
       "      <td>10928270.0</td>\n",
       "      <td>28.666667</td>\n",
       "      <td>77.216667</td>\n",
       "    </tr>\n",
       "    <tr>\n",
       "      <th>1349146</th>\n",
       "      <td>in</td>\n",
       "      <td>new delhi</td>\n",
       "      <td>New Delhi</td>\n",
       "      <td>07</td>\n",
       "      <td>10928270.0</td>\n",
       "      <td>28.600000</td>\n",
       "      <td>77.200000</td>\n",
       "    </tr>\n",
       "    <tr>\n",
       "      <th>1544449</th>\n",
       "      <td>jp</td>\n",
       "      <td>tokyo</td>\n",
       "      <td>Tokyo</td>\n",
       "      <td>40</td>\n",
       "      <td>31480498.0</td>\n",
       "      <td>35.685000</td>\n",
       "      <td>139.751389</td>\n",
       "    </tr>\n",
       "    <tr>\n",
       "      <th>1626528</th>\n",
       "      <td>kr</td>\n",
       "      <td>seoul</td>\n",
       "      <td>Seoul</td>\n",
       "      <td>11</td>\n",
       "      <td>10323448.0</td>\n",
       "      <td>37.598500</td>\n",
       "      <td>126.978300</td>\n",
       "    </tr>\n",
       "    <tr>\n",
       "      <th>2130459</th>\n",
       "      <td>ph</td>\n",
       "      <td>manila</td>\n",
       "      <td>Manila</td>\n",
       "      <td>D9</td>\n",
       "      <td>10443877.0</td>\n",
       "      <td>14.604200</td>\n",
       "      <td>120.982200</td>\n",
       "    </tr>\n",
       "    <tr>\n",
       "      <th>2200161</th>\n",
       "      <td>pk</td>\n",
       "      <td>karachi</td>\n",
       "      <td>Karachi</td>\n",
       "      <td>05</td>\n",
       "      <td>11627378.0</td>\n",
       "      <td>24.905600</td>\n",
       "      <td>67.082200</td>\n",
       "    </tr>\n",
       "    <tr>\n",
       "      <th>2461968</th>\n",
       "      <td>ru</td>\n",
       "      <td>moscow</td>\n",
       "      <td>Moscow</td>\n",
       "      <td>48</td>\n",
       "      <td>10381288.0</td>\n",
       "      <td>55.752222</td>\n",
       "      <td>37.615556</td>\n",
       "    </tr>\n",
       "  </tbody>\n",
       "</table>\n",
       "</div>"
      ],
      "text/plain": [
       "        Country       City AccentCity Region  Population   Latitude  \\\n",
       "316800       br  sao paulo  São Paulo     27  10021437.0 -23.473293   \n",
       "570824       cn   shanghai   Shanghai     23  14608512.0  31.045556   \n",
       "1327914      in     bombay     Bombay     16  12692717.0  18.975000   \n",
       "1331162      in      delhi      Delhi     07  10928270.0  28.666667   \n",
       "1349146      in  new delhi  New Delhi     07  10928270.0  28.600000   \n",
       "1544449      jp      tokyo      Tokyo     40  31480498.0  35.685000   \n",
       "1626528      kr      seoul      Seoul     11  10323448.0  37.598500   \n",
       "2130459      ph     manila     Manila     D9  10443877.0  14.604200   \n",
       "2200161      pk    karachi    Karachi     05  11627378.0  24.905600   \n",
       "2461968      ru     moscow     Moscow     48  10381288.0  55.752222   \n",
       "\n",
       "          Longitude  \n",
       "316800   -46.665803  \n",
       "570824   121.399722  \n",
       "1327914   72.825833  \n",
       "1331162   77.216667  \n",
       "1349146   77.200000  \n",
       "1544449  139.751389  \n",
       "1626528  126.978300  \n",
       "2130459  120.982200  \n",
       "2200161   67.082200  \n",
       "2461968   37.615556  "
      ]
     },
     "execution_count": 33,
     "metadata": {},
     "output_type": "execute_result"
    }
   ],
   "source": [
    "pop_greater_10m"
   ]
  },
  {
   "cell_type": "code",
   "execution_count": 48,
   "metadata": {},
   "outputs": [
    {
     "data": {
      "text/html": [
       "<div>\n",
       "<style>\n",
       "    .dataframe thead tr:only-child th {\n",
       "        text-align: right;\n",
       "    }\n",
       "\n",
       "    .dataframe thead th {\n",
       "        text-align: left;\n",
       "    }\n",
       "\n",
       "    .dataframe tbody tr th {\n",
       "        vertical-align: top;\n",
       "    }\n",
       "</style>\n",
       "<table border=\"1\" class=\"dataframe\">\n",
       "  <thead>\n",
       "    <tr style=\"text-align: right;\">\n",
       "      <th></th>\n",
       "      <th>Country</th>\n",
       "      <th>City</th>\n",
       "      <th>AccentCity</th>\n",
       "      <th>Region</th>\n",
       "      <th>Population</th>\n",
       "      <th>Latitude</th>\n",
       "      <th>Longitude</th>\n",
       "    </tr>\n",
       "  </thead>\n",
       "  <tbody>\n",
       "    <tr>\n",
       "      <th>316800</th>\n",
       "      <td>br</td>\n",
       "      <td>sao paulo</td>\n",
       "      <td>São Paulo</td>\n",
       "      <td>27</td>\n",
       "      <td>10021437.0</td>\n",
       "      <td>-23.473293</td>\n",
       "      <td>-46.665803</td>\n",
       "    </tr>\n",
       "    <tr>\n",
       "      <th>570824</th>\n",
       "      <td>cn</td>\n",
       "      <td>shanghai</td>\n",
       "      <td>Shanghai</td>\n",
       "      <td>23</td>\n",
       "      <td>14608512.0</td>\n",
       "      <td>31.045556</td>\n",
       "      <td>121.399722</td>\n",
       "    </tr>\n",
       "    <tr>\n",
       "      <th>1327914</th>\n",
       "      <td>in</td>\n",
       "      <td>bombay</td>\n",
       "      <td>Bombay</td>\n",
       "      <td>16</td>\n",
       "      <td>12692717.0</td>\n",
       "      <td>18.975000</td>\n",
       "      <td>72.825833</td>\n",
       "    </tr>\n",
       "    <tr>\n",
       "      <th>2200161</th>\n",
       "      <td>pk</td>\n",
       "      <td>karachi</td>\n",
       "      <td>Karachi</td>\n",
       "      <td>05</td>\n",
       "      <td>11627378.0</td>\n",
       "      <td>24.905600</td>\n",
       "      <td>67.082200</td>\n",
       "    </tr>\n",
       "    <tr>\n",
       "      <th>2461968</th>\n",
       "      <td>ru</td>\n",
       "      <td>moscow</td>\n",
       "      <td>Moscow</td>\n",
       "      <td>48</td>\n",
       "      <td>10381288.0</td>\n",
       "      <td>55.752222</td>\n",
       "      <td>37.615556</td>\n",
       "    </tr>\n",
       "  </tbody>\n",
       "</table>\n",
       "</div>"
      ],
      "text/plain": [
       "        Country       City AccentCity Region  Population   Latitude  \\\n",
       "316800       br  sao paulo  São Paulo     27  10021437.0 -23.473293   \n",
       "570824       cn   shanghai   Shanghai     23  14608512.0  31.045556   \n",
       "1327914      in     bombay     Bombay     16  12692717.0  18.975000   \n",
       "2200161      pk    karachi    Karachi     05  11627378.0  24.905600   \n",
       "2461968      ru     moscow     Moscow     48  10381288.0  55.752222   \n",
       "\n",
       "          Longitude  \n",
       "316800   -46.665803  \n",
       "570824   121.399722  \n",
       "1327914   72.825833  \n",
       "2200161   67.082200  \n",
       "2461968   37.615556  "
      ]
     },
     "execution_count": 48,
     "metadata": {},
     "output_type": "execute_result"
    }
   ],
   "source": [
    "pop_greater_10m.drop(pop_greater_10m.index[3:8])"
   ]
  },
  {
   "cell_type": "markdown",
   "metadata": {},
   "source": [
    "## 5. Inserting Columns"
   ]
  },
  {
   "cell_type": "code",
   "execution_count": 54,
   "metadata": {},
   "outputs": [
    {
     "name": "stderr",
     "output_type": "stream",
     "text": [
      "C:\\Users\\Shakur\\Anaconda3\\lib\\site-packages\\pandas\\core\\indexing.py:517: SettingWithCopyWarning: \n",
      "A value is trying to be set on a copy of a slice from a DataFrame.\n",
      "Try using .loc[row_indexer,col_indexer] = value instead\n",
      "\n",
      "See the caveats in the documentation: http://pandas.pydata.org/pandas-docs/stable/indexing.html#indexing-view-versus-copy\n",
      "  self.obj[item] = s\n"
     ]
    }
   ],
   "source": [
    "countries = ['Brazil', 'China', 'India', 'India', 'India', 'Japan', 'South Korea', 'Philippines', 'Pakistan', 'Rusia']\n",
    "pop_greater_10m.loc[:, 'CountryName'] = countries"
   ]
  },
  {
   "cell_type": "code",
   "execution_count": 58,
   "metadata": {},
   "outputs": [
    {
     "data": {
      "text/html": [
       "<div>\n",
       "<style>\n",
       "    .dataframe thead tr:only-child th {\n",
       "        text-align: right;\n",
       "    }\n",
       "\n",
       "    .dataframe thead th {\n",
       "        text-align: left;\n",
       "    }\n",
       "\n",
       "    .dataframe tbody tr th {\n",
       "        vertical-align: top;\n",
       "    }\n",
       "</style>\n",
       "<table border=\"1\" class=\"dataframe\">\n",
       "  <thead>\n",
       "    <tr style=\"text-align: right;\">\n",
       "      <th></th>\n",
       "      <th>Country</th>\n",
       "      <th>City</th>\n",
       "      <th>Region</th>\n",
       "      <th>Population</th>\n",
       "      <th>Latitude</th>\n",
       "      <th>Longitude</th>\n",
       "      <th>CountryName</th>\n",
       "    </tr>\n",
       "  </thead>\n",
       "  <tbody>\n",
       "    <tr>\n",
       "      <th>316800</th>\n",
       "      <td>br</td>\n",
       "      <td>sao paulo</td>\n",
       "      <td>27</td>\n",
       "      <td>10021437.0</td>\n",
       "      <td>-23.473293</td>\n",
       "      <td>-46.665803</td>\n",
       "      <td>Brazil</td>\n",
       "    </tr>\n",
       "    <tr>\n",
       "      <th>570824</th>\n",
       "      <td>cn</td>\n",
       "      <td>shanghai</td>\n",
       "      <td>23</td>\n",
       "      <td>14608512.0</td>\n",
       "      <td>31.045556</td>\n",
       "      <td>121.399722</td>\n",
       "      <td>China</td>\n",
       "    </tr>\n",
       "    <tr>\n",
       "      <th>1327914</th>\n",
       "      <td>in</td>\n",
       "      <td>bombay</td>\n",
       "      <td>16</td>\n",
       "      <td>12692717.0</td>\n",
       "      <td>18.975000</td>\n",
       "      <td>72.825833</td>\n",
       "      <td>India</td>\n",
       "    </tr>\n",
       "    <tr>\n",
       "      <th>1331162</th>\n",
       "      <td>in</td>\n",
       "      <td>delhi</td>\n",
       "      <td>07</td>\n",
       "      <td>10928270.0</td>\n",
       "      <td>28.666667</td>\n",
       "      <td>77.216667</td>\n",
       "      <td>India</td>\n",
       "    </tr>\n",
       "    <tr>\n",
       "      <th>1349146</th>\n",
       "      <td>in</td>\n",
       "      <td>new delhi</td>\n",
       "      <td>07</td>\n",
       "      <td>10928270.0</td>\n",
       "      <td>28.600000</td>\n",
       "      <td>77.200000</td>\n",
       "      <td>India</td>\n",
       "    </tr>\n",
       "    <tr>\n",
       "      <th>1544449</th>\n",
       "      <td>jp</td>\n",
       "      <td>tokyo</td>\n",
       "      <td>40</td>\n",
       "      <td>31480498.0</td>\n",
       "      <td>35.685000</td>\n",
       "      <td>139.751389</td>\n",
       "      <td>Japan</td>\n",
       "    </tr>\n",
       "    <tr>\n",
       "      <th>1626528</th>\n",
       "      <td>kr</td>\n",
       "      <td>seoul</td>\n",
       "      <td>11</td>\n",
       "      <td>10323448.0</td>\n",
       "      <td>37.598500</td>\n",
       "      <td>126.978300</td>\n",
       "      <td>South Korea</td>\n",
       "    </tr>\n",
       "    <tr>\n",
       "      <th>2130459</th>\n",
       "      <td>ph</td>\n",
       "      <td>manila</td>\n",
       "      <td>D9</td>\n",
       "      <td>10443877.0</td>\n",
       "      <td>14.604200</td>\n",
       "      <td>120.982200</td>\n",
       "      <td>Philippines</td>\n",
       "    </tr>\n",
       "    <tr>\n",
       "      <th>2200161</th>\n",
       "      <td>pk</td>\n",
       "      <td>karachi</td>\n",
       "      <td>05</td>\n",
       "      <td>11627378.0</td>\n",
       "      <td>24.905600</td>\n",
       "      <td>67.082200</td>\n",
       "      <td>Pakistan</td>\n",
       "    </tr>\n",
       "    <tr>\n",
       "      <th>2461968</th>\n",
       "      <td>ru</td>\n",
       "      <td>moscow</td>\n",
       "      <td>48</td>\n",
       "      <td>10381288.0</td>\n",
       "      <td>55.752222</td>\n",
       "      <td>37.615556</td>\n",
       "      <td>Rusia</td>\n",
       "    </tr>\n",
       "  </tbody>\n",
       "</table>\n",
       "</div>"
      ],
      "text/plain": [
       "        Country       City Region  Population   Latitude   Longitude  \\\n",
       "316800       br  sao paulo     27  10021437.0 -23.473293  -46.665803   \n",
       "570824       cn   shanghai     23  14608512.0  31.045556  121.399722   \n",
       "1327914      in     bombay     16  12692717.0  18.975000   72.825833   \n",
       "1331162      in      delhi     07  10928270.0  28.666667   77.216667   \n",
       "1349146      in  new delhi     07  10928270.0  28.600000   77.200000   \n",
       "1544449      jp      tokyo     40  31480498.0  35.685000  139.751389   \n",
       "1626528      kr      seoul     11  10323448.0  37.598500  126.978300   \n",
       "2130459      ph     manila     D9  10443877.0  14.604200  120.982200   \n",
       "2200161      pk    karachi     05  11627378.0  24.905600   67.082200   \n",
       "2461968      ru     moscow     48  10381288.0  55.752222   37.615556   \n",
       "\n",
       "         CountryName  \n",
       "316800        Brazil  \n",
       "570824         China  \n",
       "1327914        India  \n",
       "1331162        India  \n",
       "1349146        India  \n",
       "1544449        Japan  \n",
       "1626528  South Korea  \n",
       "2130459  Philippines  \n",
       "2200161     Pakistan  \n",
       "2461968        Rusia  "
      ]
     },
     "execution_count": 58,
     "metadata": {},
     "output_type": "execute_result"
    }
   ],
   "source": [
    "pop_greater_10m"
   ]
  },
  {
   "cell_type": "code",
   "execution_count": null,
   "metadata": {},
   "outputs": [],
   "source": []
  }
 ],
 "metadata": {
  "kernelspec": {
   "display_name": "Python 3",
   "language": "python",
   "name": "python3"
  },
  "language_info": {
   "codemirror_mode": {
    "name": "ipython",
    "version": 3
   },
   "file_extension": ".py",
   "mimetype": "text/x-python",
   "name": "python",
   "nbconvert_exporter": "python",
   "pygments_lexer": "ipython3",
   "version": "3.6.3"
  }
 },
 "nbformat": 4,
 "nbformat_minor": 2
}
