{
 "cells": [
  {
   "cell_type": "markdown",
   "metadata": {},
   "source": [
    "# Pandas Essentials Part 1\n",
    "## DataFrames and Descriptive Statistics"
   ]
  },
  {
   "cell_type": "code",
   "execution_count": 1,
   "metadata": {},
   "outputs": [],
   "source": [
    "import pandas as pd\n",
    "import numpy as np"
   ]
  },
  {
   "cell_type": "code",
   "execution_count": 3,
   "metadata": {},
   "outputs": [
    {
     "data": {
      "text/plain": [
       "0    6\n",
       "1    5\n",
       "2    4\n",
       "3    3\n",
       "dtype: int64"
      ]
     },
     "execution_count": 3,
     "metadata": {},
     "output_type": "execute_result"
    }
   ],
   "source": [
    "ser = pd.Series([6,5,4,3])\n",
    "ser"
   ]
  },
  {
   "cell_type": "code",
   "execution_count": 7,
   "metadata": {},
   "outputs": [
    {
     "data": {
      "text/plain": [
       "a    6\n",
       "b    5\n",
       "c    4\n",
       "d    3\n",
       "dtype: int64"
      ]
     },
     "execution_count": 7,
     "metadata": {},
     "output_type": "execute_result"
    }
   ],
   "source": [
    "ser_index = pd.Series([6,5,4,3],index=['a','b','c','d'])\n",
    "ser_index"
   ]
  },
  {
   "cell_type": "code",
   "execution_count": 5,
   "metadata": {},
   "outputs": [
    {
     "data": {
      "text/plain": [
       "array([6, 5, 4, 3], dtype=int64)"
      ]
     },
     "execution_count": 5,
     "metadata": {},
     "output_type": "execute_result"
    }
   ],
   "source": [
    "ser.values"
   ]
  },
  {
   "cell_type": "markdown",
   "metadata": {},
   "source": [
    "## 1. DataFrame Essentials"
   ]
  },
  {
   "cell_type": "markdown",
   "metadata": {},
   "source": [
    "### 1.1 Creating DataFrames from Scratch"
   ]
  },
  {
   "cell_type": "code",
   "execution_count": 2,
   "metadata": {},
   "outputs": [
    {
     "data": {
      "text/html": [
       "<div>\n",
       "<style>\n",
       "    .dataframe thead tr:only-child th {\n",
       "        text-align: right;\n",
       "    }\n",
       "\n",
       "    .dataframe thead th {\n",
       "        text-align: left;\n",
       "    }\n",
       "\n",
       "    .dataframe tbody tr th {\n",
       "        vertical-align: top;\n",
       "    }\n",
       "</style>\n",
       "<table border=\"1\" class=\"dataframe\">\n",
       "  <thead>\n",
       "    <tr style=\"text-align: right;\">\n",
       "      <th></th>\n",
       "      <th>teams</th>\n",
       "      <th>cups</th>\n",
       "      <th>Year</th>\n",
       "    </tr>\n",
       "  </thead>\n",
       "  <tbody>\n",
       "    <tr>\n",
       "      <th>1</th>\n",
       "      <td>Real Madrid</td>\n",
       "      <td>12</td>\n",
       "      <td>1902</td>\n",
       "    </tr>\n",
       "    <tr>\n",
       "      <th>2</th>\n",
       "      <td>Roma</td>\n",
       "      <td>0</td>\n",
       "      <td>1927</td>\n",
       "    </tr>\n",
       "    <tr>\n",
       "      <th>3</th>\n",
       "      <td>Liverpool</td>\n",
       "      <td>5</td>\n",
       "      <td>1892</td>\n",
       "    </tr>\n",
       "    <tr>\n",
       "      <th>4</th>\n",
       "      <td>Bayern Munchen</td>\n",
       "      <td>5</td>\n",
       "      <td>1900</td>\n",
       "    </tr>\n",
       "  </tbody>\n",
       "</table>\n",
       "</div>"
      ],
      "text/plain": [
       "            teams  cups  Year\n",
       "1     Real Madrid    12  1902\n",
       "2            Roma     0  1927\n",
       "3       Liverpool     5  1892\n",
       "4  Bayern Munchen     5  1900"
      ]
     },
     "execution_count": 2,
     "metadata": {},
     "output_type": "execute_result"
    }
   ],
   "source": [
    "team = ['Real Madrid', 'Roma', 'Liverpool', 'Bayern Munchen']\n",
    "champions_league_cups = [12,0, 5, 5]\n",
    "established = [1902, 1927, 1892, 1900]\n",
    "\n",
    "df = pd.DataFrame({'teams' : team, 'cups' : champions_league_cups, 'Year': established},  columns=['teams','cups', 'Year'],index=range(1,5))\n",
    "df"
   ]
  },
  {
   "cell_type": "markdown",
   "metadata": {},
   "source": [
    "#### 1.1.1 Add Column"
   ]
  },
  {
   "cell_type": "code",
   "execution_count": null,
   "metadata": {},
   "outputs": [],
   "source": [
    "pd.read"
   ]
  },
  {
   "cell_type": "markdown",
   "metadata": {},
   "source": [
    "#### 1.1.2 Delete a column"
   ]
  },
  {
   "cell_type": "code",
   "execution_count": null,
   "metadata": {},
   "outputs": [],
   "source": []
  },
  {
   "cell_type": "markdown",
   "metadata": {},
   "source": [
    "###  1.2 Reading Text Files (CSV)"
   ]
  },
  {
   "cell_type": "code",
   "execution_count": 9,
   "metadata": {},
   "outputs": [],
   "source": [
    "csv_df = pd.read_csv('Data/worldcitiespop.csv', low_memory=False)"
   ]
  },
  {
   "cell_type": "code",
   "execution_count": 4,
   "metadata": {},
   "outputs": [
    {
     "data": {
      "text/html": [
       "<div>\n",
       "<style>\n",
       "    .dataframe thead tr:only-child th {\n",
       "        text-align: right;\n",
       "    }\n",
       "\n",
       "    .dataframe thead th {\n",
       "        text-align: left;\n",
       "    }\n",
       "\n",
       "    .dataframe tbody tr th {\n",
       "        vertical-align: top;\n",
       "    }\n",
       "</style>\n",
       "<table border=\"1\" class=\"dataframe\">\n",
       "  <thead>\n",
       "    <tr style=\"text-align: right;\">\n",
       "      <th></th>\n",
       "      <th>Country</th>\n",
       "      <th>City</th>\n",
       "      <th>AccentCity</th>\n",
       "      <th>Region</th>\n",
       "      <th>Population</th>\n",
       "      <th>Latitude</th>\n",
       "      <th>Longitude</th>\n",
       "    </tr>\n",
       "  </thead>\n",
       "  <tbody>\n",
       "    <tr>\n",
       "      <th>0</th>\n",
       "      <td>ad</td>\n",
       "      <td>aixas</td>\n",
       "      <td>Aixàs</td>\n",
       "      <td>06</td>\n",
       "      <td>NaN</td>\n",
       "      <td>42.483333</td>\n",
       "      <td>1.466667</td>\n",
       "    </tr>\n",
       "    <tr>\n",
       "      <th>1</th>\n",
       "      <td>ad</td>\n",
       "      <td>aixirivali</td>\n",
       "      <td>Aixirivali</td>\n",
       "      <td>06</td>\n",
       "      <td>NaN</td>\n",
       "      <td>42.466667</td>\n",
       "      <td>1.500000</td>\n",
       "    </tr>\n",
       "    <tr>\n",
       "      <th>2</th>\n",
       "      <td>ad</td>\n",
       "      <td>aixirivall</td>\n",
       "      <td>Aixirivall</td>\n",
       "      <td>06</td>\n",
       "      <td>NaN</td>\n",
       "      <td>42.466667</td>\n",
       "      <td>1.500000</td>\n",
       "    </tr>\n",
       "    <tr>\n",
       "      <th>3</th>\n",
       "      <td>ad</td>\n",
       "      <td>aixirvall</td>\n",
       "      <td>Aixirvall</td>\n",
       "      <td>06</td>\n",
       "      <td>NaN</td>\n",
       "      <td>42.466667</td>\n",
       "      <td>1.500000</td>\n",
       "    </tr>\n",
       "    <tr>\n",
       "      <th>4</th>\n",
       "      <td>ad</td>\n",
       "      <td>aixovall</td>\n",
       "      <td>Aixovall</td>\n",
       "      <td>06</td>\n",
       "      <td>NaN</td>\n",
       "      <td>42.466667</td>\n",
       "      <td>1.483333</td>\n",
       "    </tr>\n",
       "    <tr>\n",
       "      <th>5</th>\n",
       "      <td>ad</td>\n",
       "      <td>andorra</td>\n",
       "      <td>Andorra</td>\n",
       "      <td>07</td>\n",
       "      <td>NaN</td>\n",
       "      <td>42.500000</td>\n",
       "      <td>1.516667</td>\n",
       "    </tr>\n",
       "    <tr>\n",
       "      <th>6</th>\n",
       "      <td>ad</td>\n",
       "      <td>andorra la vella</td>\n",
       "      <td>Andorra la Vella</td>\n",
       "      <td>07</td>\n",
       "      <td>20430.0</td>\n",
       "      <td>42.500000</td>\n",
       "      <td>1.516667</td>\n",
       "    </tr>\n",
       "  </tbody>\n",
       "</table>\n",
       "</div>"
      ],
      "text/plain": [
       "  Country              City        AccentCity Region  Population   Latitude  \\\n",
       "0      ad             aixas             Aixàs     06         NaN  42.483333   \n",
       "1      ad        aixirivali        Aixirivali     06         NaN  42.466667   \n",
       "2      ad        aixirivall        Aixirivall     06         NaN  42.466667   \n",
       "3      ad         aixirvall         Aixirvall     06         NaN  42.466667   \n",
       "4      ad          aixovall          Aixovall     06         NaN  42.466667   \n",
       "5      ad           andorra           Andorra     07         NaN  42.500000   \n",
       "6      ad  andorra la vella  Andorra la Vella     07     20430.0  42.500000   \n",
       "\n",
       "   Longitude  \n",
       "0   1.466667  \n",
       "1   1.500000  \n",
       "2   1.500000  \n",
       "3   1.500000  \n",
       "4   1.483333  \n",
       "5   1.516667  \n",
       "6   1.516667  "
      ]
     },
     "execution_count": 4,
     "metadata": {},
     "output_type": "execute_result"
    }
   ],
   "source": [
    "csv_df.head(7)"
   ]
  },
  {
   "cell_type": "code",
   "execution_count": 45,
   "metadata": {},
   "outputs": [
    {
     "data": {
      "text/plain": [
       "Index(['Country', 'City', 'AccentCity', 'Region', 'Population', 'Latitude',\n",
       "       'Longitude'],\n",
       "      dtype='object')"
      ]
     },
     "execution_count": 45,
     "metadata": {},
     "output_type": "execute_result"
    }
   ],
   "source": [
    "csv_df.columns"
   ]
  },
  {
   "cell_type": "markdown",
   "metadata": {},
   "source": [
    "### 1.3 Reading From Database"
   ]
  },
  {
   "cell_type": "code",
   "execution_count": 9,
   "metadata": {},
   "outputs": [],
   "source": [
    "import psycopg2 \n",
    "connection = psycopg2.connect(database=\"MTutorial\",user=\"postgres\", password=\"XXXXXX\")\n",
    "cursor = connection.cursor()\n",
    "cursor.execute(\"SELECT * FROM cities\")"
   ]
  },
  {
   "cell_type": "code",
   "execution_count": 10,
   "metadata": {},
   "outputs": [
    {
     "data": {
      "text/html": [
       "<div>\n",
       "<style>\n",
       "    .dataframe thead tr:only-child th {\n",
       "        text-align: right;\n",
       "    }\n",
       "\n",
       "    .dataframe thead th {\n",
       "        text-align: left;\n",
       "    }\n",
       "\n",
       "    .dataframe tbody tr th {\n",
       "        vertical-align: top;\n",
       "    }\n",
       "</style>\n",
       "<table border=\"1\" class=\"dataframe\">\n",
       "  <thead>\n",
       "    <tr style=\"text-align: right;\">\n",
       "      <th></th>\n",
       "      <th>id</th>\n",
       "      <th>geom</th>\n",
       "      <th>Country</th>\n",
       "      <th>City</th>\n",
       "      <th>AccentCity</th>\n",
       "      <th>Region</th>\n",
       "      <th>Population</th>\n",
       "      <th>Latitude</th>\n",
       "      <th>Longtitude</th>\n",
       "    </tr>\n",
       "  </thead>\n",
       "  <tbody>\n",
       "    <tr>\n",
       "      <th>0</th>\n",
       "      <td>1</td>\n",
       "      <td>0101000020E6100000AB1D6A807777F73FAC4896DDDD3D...</td>\n",
       "      <td>ad</td>\n",
       "      <td>aixas</td>\n",
       "      <td>Aixàs</td>\n",
       "      <td>06</td>\n",
       "      <td>NaN</td>\n",
       "      <td>42.483333</td>\n",
       "      <td>1.466667</td>\n",
       "    </tr>\n",
       "    <tr>\n",
       "      <th>1</th>\n",
       "      <td>2</td>\n",
       "      <td>0101000020E6100000000000000000F83FEE5003BCBB3B...</td>\n",
       "      <td>ad</td>\n",
       "      <td>aixirivali</td>\n",
       "      <td>Aixirivali</td>\n",
       "      <td>06</td>\n",
       "      <td>NaN</td>\n",
       "      <td>42.466667</td>\n",
       "      <td>1.500000</td>\n",
       "    </tr>\n",
       "    <tr>\n",
       "      <th>2</th>\n",
       "      <td>3</td>\n",
       "      <td>0101000020E6100000000000000000F83FEE5003BCBB3B...</td>\n",
       "      <td>ad</td>\n",
       "      <td>aixirivall</td>\n",
       "      <td>Aixirivall</td>\n",
       "      <td>06</td>\n",
       "      <td>NaN</td>\n",
       "      <td>42.466667</td>\n",
       "      <td>1.500000</td>\n",
       "    </tr>\n",
       "    <tr>\n",
       "      <th>3</th>\n",
       "      <td>4</td>\n",
       "      <td>0101000020E6100000000000000000F83FEE5003BCBB3B...</td>\n",
       "      <td>ad</td>\n",
       "      <td>aixirvall</td>\n",
       "      <td>Aixirvall</td>\n",
       "      <td>06</td>\n",
       "      <td>NaN</td>\n",
       "      <td>42.466667</td>\n",
       "      <td>1.500000</td>\n",
       "    </tr>\n",
       "    <tr>\n",
       "      <th>4</th>\n",
       "      <td>5</td>\n",
       "      <td>0101000020E61000008815C9B2BBBBF73FEE5003BCBB3B...</td>\n",
       "      <td>ad</td>\n",
       "      <td>aixovall</td>\n",
       "      <td>Aixovall</td>\n",
       "      <td>06</td>\n",
       "      <td>NaN</td>\n",
       "      <td>42.466667</td>\n",
       "      <td>1.483333</td>\n",
       "    </tr>\n",
       "    <tr>\n",
       "      <th>5</th>\n",
       "      <td>6</td>\n",
       "      <td>0101000020E610000078EA364D4444F83F000000000040...</td>\n",
       "      <td>ad</td>\n",
       "      <td>andorra</td>\n",
       "      <td>Andorra</td>\n",
       "      <td>07</td>\n",
       "      <td>NaN</td>\n",
       "      <td>42.500000</td>\n",
       "      <td>1.516667</td>\n",
       "    </tr>\n",
       "    <tr>\n",
       "      <th>6</th>\n",
       "      <td>7</td>\n",
       "      <td>0101000020E610000078EA364D4444F83F000000000040...</td>\n",
       "      <td>ad</td>\n",
       "      <td>andorra la vella</td>\n",
       "      <td>Andorra la Vella</td>\n",
       "      <td>07</td>\n",
       "      <td>20430.0</td>\n",
       "      <td>42.500000</td>\n",
       "      <td>1.516667</td>\n",
       "    </tr>\n",
       "  </tbody>\n",
       "</table>\n",
       "</div>"
      ],
      "text/plain": [
       "   id                                               geom Country  \\\n",
       "0   1  0101000020E6100000AB1D6A807777F73FAC4896DDDD3D...      ad   \n",
       "1   2  0101000020E6100000000000000000F83FEE5003BCBB3B...      ad   \n",
       "2   3  0101000020E6100000000000000000F83FEE5003BCBB3B...      ad   \n",
       "3   4  0101000020E6100000000000000000F83FEE5003BCBB3B...      ad   \n",
       "4   5  0101000020E61000008815C9B2BBBBF73FEE5003BCBB3B...      ad   \n",
       "5   6  0101000020E610000078EA364D4444F83F000000000040...      ad   \n",
       "6   7  0101000020E610000078EA364D4444F83F000000000040...      ad   \n",
       "\n",
       "               City        AccentCity Region  Population   Latitude  \\\n",
       "0             aixas             Aixàs     06         NaN  42.483333   \n",
       "1        aixirivali        Aixirivali     06         NaN  42.466667   \n",
       "2        aixirivall        Aixirivall     06         NaN  42.466667   \n",
       "3         aixirvall         Aixirvall     06         NaN  42.466667   \n",
       "4          aixovall          Aixovall     06         NaN  42.466667   \n",
       "5           andorra           Andorra     07         NaN  42.500000   \n",
       "6  andorra la vella  Andorra la Vella     07     20430.0  42.500000   \n",
       "\n",
       "   Longtitude  \n",
       "0    1.466667  \n",
       "1    1.500000  \n",
       "2    1.500000  \n",
       "3    1.500000  \n",
       "4    1.483333  \n",
       "5    1.516667  \n",
       "6    1.516667  "
      ]
     },
     "execution_count": 10,
     "metadata": {},
     "output_type": "execute_result"
    }
   ],
   "source": [
    "database_df = pd.DataFrame(cursor.fetchall(), columns=['id', 'geom', 'Country', 'City', 'AccentCity', 'Region', 'Population', 'Latitude', 'Longtitude'])\n",
    "                           \n",
    "database_df.head(7)\n"
   ]
  },
  {
   "cell_type": "markdown",
   "metadata": {},
   "source": [
    "### 1.4 Read from HTML "
   ]
  },
  {
   "cell_type": "code",
   "execution_count": 15,
   "metadata": {},
   "outputs": [],
   "source": [
    "url = 'https://en.wikipedia.org/wiki/UEFA_Champions_League'\n",
    "\n",
    "html_df = pd.read_html(url, header=0, index_col=0)[3] # Top scorers\n"
   ]
  },
  {
   "cell_type": "code",
   "execution_count": 16,
   "metadata": {},
   "outputs": [
    {
     "data": {
      "text/html": [
       "<div>\n",
       "<style>\n",
       "    .dataframe thead tr:only-child th {\n",
       "        text-align: right;\n",
       "    }\n",
       "\n",
       "    .dataframe thead th {\n",
       "        text-align: left;\n",
       "    }\n",
       "\n",
       "    .dataframe tbody tr th {\n",
       "        vertical-align: top;\n",
       "    }\n",
       "</style>\n",
       "<table border=\"1\" class=\"dataframe\">\n",
       "  <thead>\n",
       "    <tr style=\"text-align: right;\">\n",
       "      <th></th>\n",
       "      <th>Player</th>\n",
       "      <th>Country</th>\n",
       "      <th>Goals</th>\n",
       "      <th>Apps</th>\n",
       "      <th>Ratio</th>\n",
       "      <th>Years</th>\n",
       "      <th>Clubs</th>\n",
       "    </tr>\n",
       "  </thead>\n",
       "  <tbody>\n",
       "    <tr>\n",
       "      <th>1</th>\n",
       "      <td>Cristiano Ronaldo</td>\n",
       "      <td>Portugal</td>\n",
       "      <td>120</td>\n",
       "      <td>152.0</td>\n",
       "      <td>0.79</td>\n",
       "      <td>2003–</td>\n",
       "      <td>Manchester United Real Madrid</td>\n",
       "    </tr>\n",
       "    <tr>\n",
       "      <th>2</th>\n",
       "      <td>Lionel Messi</td>\n",
       "      <td>Argentina</td>\n",
       "      <td>100</td>\n",
       "      <td>125.0</td>\n",
       "      <td>0.8</td>\n",
       "      <td>2005–</td>\n",
       "      <td>Barcelona</td>\n",
       "    </tr>\n",
       "    <tr>\n",
       "      <th>3</th>\n",
       "      <td>Raúl</td>\n",
       "      <td>Spain</td>\n",
       "      <td>71</td>\n",
       "      <td>142.0</td>\n",
       "      <td>0.5</td>\n",
       "      <td>1995–2011</td>\n",
       "      <td>Real Madrid Schalke 04</td>\n",
       "    </tr>\n",
       "    <tr>\n",
       "      <th>4</th>\n",
       "      <td>Ruud van Nistelrooy</td>\n",
       "      <td>Netherlands</td>\n",
       "      <td>56</td>\n",
       "      <td>73.0</td>\n",
       "      <td>0.77</td>\n",
       "      <td>1998–2009</td>\n",
       "      <td>PSV Eindhoven Manchester United Real Madrid</td>\n",
       "    </tr>\n",
       "    <tr>\n",
       "      <th>5</th>\n",
       "      <td>Karim Benzema</td>\n",
       "      <td>France</td>\n",
       "      <td>55</td>\n",
       "      <td>103.0</td>\n",
       "      <td>0.53</td>\n",
       "      <td>2006–</td>\n",
       "      <td>Lyon Real Madrid</td>\n",
       "    </tr>\n",
       "  </tbody>\n",
       "</table>\n",
       "</div>"
      ],
      "text/plain": [
       "                Player      Country  Goals   Apps Ratio      Years  \\\n",
       "1    Cristiano Ronaldo     Portugal    120  152.0  0.79      2003–   \n",
       "2         Lionel Messi    Argentina    100  125.0   0.8      2005–   \n",
       "3                 Raúl        Spain     71  142.0   0.5  1995–2011   \n",
       "4  Ruud van Nistelrooy  Netherlands     56   73.0  0.77  1998–2009   \n",
       "5        Karim Benzema       France     55  103.0  0.53      2006–   \n",
       "\n",
       "                                         Clubs  \n",
       "1                Manchester United Real Madrid  \n",
       "2                                    Barcelona  \n",
       "3                       Real Madrid Schalke 04  \n",
       "4  PSV Eindhoven Manchester United Real Madrid  \n",
       "5                             Lyon Real Madrid  "
      ]
     },
     "execution_count": 16,
     "metadata": {},
     "output_type": "execute_result"
    }
   ],
   "source": [
    "html_df.head(5)"
   ]
  },
  {
   "cell_type": "markdown",
   "metadata": {},
   "source": [
    "## 2. Descriptive Statistics & Basic Data Exploration"
   ]
  },
  {
   "cell_type": "markdown",
   "metadata": {},
   "source": [
    "### 2.1 Number of Rows and Columns"
   ]
  },
  {
   "cell_type": "code",
   "execution_count": 37,
   "metadata": {},
   "outputs": [
    {
     "data": {
      "text/plain": [
       "(3173958, 7)"
      ]
     },
     "execution_count": 37,
     "metadata": {},
     "output_type": "execute_result"
    }
   ],
   "source": [
    "csv_df.shape"
   ]
  },
  {
   "cell_type": "markdown",
   "metadata": {},
   "source": [
    "### 2.2 Summary information about the dataFrame"
   ]
  },
  {
   "cell_type": "code",
   "execution_count": 36,
   "metadata": {},
   "outputs": [
    {
     "name": "stdout",
     "output_type": "stream",
     "text": [
      "<class 'pandas.core.frame.DataFrame'>\n",
      "RangeIndex: 3173958 entries, 0 to 3173957\n",
      "Data columns (total 7 columns):\n",
      "Country       object\n",
      "City          object\n",
      "AccentCity    object\n",
      "Region        object\n",
      "Population    float64\n",
      "Latitude      float64\n",
      "Longitude     float64\n",
      "dtypes: float64(3), object(4)\n",
      "memory usage: 169.5+ MB\n"
     ]
    }
   ],
   "source": [
    "csv_df.info()"
   ]
  },
  {
   "cell_type": "markdown",
   "metadata": {},
   "source": [
    "### 2.3 Descriptive Statistics"
   ]
  },
  {
   "cell_type": "code",
   "execution_count": 13,
   "metadata": {},
   "outputs": [
    {
     "data": {
      "text/html": [
       "<div>\n",
       "<style>\n",
       "    .dataframe thead tr:only-child th {\n",
       "        text-align: right;\n",
       "    }\n",
       "\n",
       "    .dataframe thead th {\n",
       "        text-align: left;\n",
       "    }\n",
       "\n",
       "    .dataframe tbody tr th {\n",
       "        vertical-align: top;\n",
       "    }\n",
       "</style>\n",
       "<table border=\"1\" class=\"dataframe\">\n",
       "  <thead>\n",
       "    <tr style=\"text-align: right;\">\n",
       "      <th></th>\n",
       "      <th>Population</th>\n",
       "      <th>Latitude</th>\n",
       "      <th>Longitude</th>\n",
       "    </tr>\n",
       "  </thead>\n",
       "  <tbody>\n",
       "    <tr>\n",
       "      <th>count</th>\n",
       "      <td>4.798000e+04</td>\n",
       "      <td>3.173958e+06</td>\n",
       "      <td>3.173958e+06</td>\n",
       "    </tr>\n",
       "    <tr>\n",
       "      <th>mean</th>\n",
       "      <td>4.771957e+04</td>\n",
       "      <td>2.718817e+01</td>\n",
       "      <td>3.708886e+01</td>\n",
       "    </tr>\n",
       "    <tr>\n",
       "      <th>std</th>\n",
       "      <td>3.028887e+05</td>\n",
       "      <td>2.195262e+01</td>\n",
       "      <td>6.322302e+01</td>\n",
       "    </tr>\n",
       "    <tr>\n",
       "      <th>min</th>\n",
       "      <td>7.000000e+00</td>\n",
       "      <td>-5.493333e+01</td>\n",
       "      <td>-1.799833e+02</td>\n",
       "    </tr>\n",
       "    <tr>\n",
       "      <th>25%</th>\n",
       "      <td>3.732000e+03</td>\n",
       "      <td>1.163333e+01</td>\n",
       "      <td>7.303175e+00</td>\n",
       "    </tr>\n",
       "    <tr>\n",
       "      <th>50%</th>\n",
       "      <td>1.077900e+04</td>\n",
       "      <td>3.249722e+01</td>\n",
       "      <td>3.528000e+01</td>\n",
       "    </tr>\n",
       "    <tr>\n",
       "      <th>75%</th>\n",
       "      <td>2.799050e+04</td>\n",
       "      <td>4.371667e+01</td>\n",
       "      <td>9.570354e+01</td>\n",
       "    </tr>\n",
       "    <tr>\n",
       "      <th>max</th>\n",
       "      <td>3.148050e+07</td>\n",
       "      <td>8.248333e+01</td>\n",
       "      <td>1.800000e+02</td>\n",
       "    </tr>\n",
       "  </tbody>\n",
       "</table>\n",
       "</div>"
      ],
      "text/plain": [
       "         Population      Latitude     Longitude\n",
       "count  4.798000e+04  3.173958e+06  3.173958e+06\n",
       "mean   4.771957e+04  2.718817e+01  3.708886e+01\n",
       "std    3.028887e+05  2.195262e+01  6.322302e+01\n",
       "min    7.000000e+00 -5.493333e+01 -1.799833e+02\n",
       "25%    3.732000e+03  1.163333e+01  7.303175e+00\n",
       "50%    1.077900e+04  3.249722e+01  3.528000e+01\n",
       "75%    2.799050e+04  4.371667e+01  9.570354e+01\n",
       "max    3.148050e+07  8.248333e+01  1.800000e+02"
      ]
     },
     "execution_count": 13,
     "metadata": {},
     "output_type": "execute_result"
    }
   ],
   "source": [
    "csv_df.describe()"
   ]
  },
  {
   "cell_type": "code",
   "execution_count": 43,
   "metadata": {},
   "outputs": [
    {
     "data": {
      "text/plain": [
       "7.0"
      ]
     },
     "execution_count": 43,
     "metadata": {},
     "output_type": "execute_result"
    }
   ],
   "source": [
    "csv_df['Population'].min()"
   ]
  },
  {
   "cell_type": "code",
   "execution_count": 41,
   "metadata": {},
   "outputs": [
    {
     "data": {
      "text/plain": [
       "31480498.0"
      ]
     },
     "execution_count": 41,
     "metadata": {},
     "output_type": "execute_result"
    }
   ],
   "source": [
    "csv_df['Population'].max()"
   ]
  },
  {
   "cell_type": "code",
   "execution_count": 50,
   "metadata": {},
   "outputs": [
    {
     "data": {
      "text/plain": [
       "Country                jp\n",
       "City                tokyo\n",
       "AccentCity          Tokyo\n",
       "Region                 40\n",
       "Population    3.14805e+07\n",
       "Latitude           35.685\n",
       "Longitude         139.751\n",
       "Name: 1544449, dtype: object"
      ]
     },
     "execution_count": 50,
     "metadata": {},
     "output_type": "execute_result"
    }
   ],
   "source": [
    "csv_df.loc[csv_df['Population'].argmax()]"
   ]
  },
  {
   "cell_type": "code",
   "execution_count": 13,
   "metadata": {},
   "outputs": [
    {
     "data": {
      "text/plain": [
       "City                tokyo\n",
       "Population    3.14805e+07\n",
       "Name: 1544449, dtype: object"
      ]
     },
     "execution_count": 13,
     "metadata": {},
     "output_type": "execute_result"
    }
   ],
   "source": [
    "csv_df.loc[csv_df['Population'].argmax()][['City', 'Population']]"
   ]
  },
  {
   "cell_type": "markdown",
   "metadata": {},
   "source": [
    "## End of Part 1"
   ]
  }
 ],
 "metadata": {
  "kernelspec": {
   "display_name": "Python 3",
   "language": "python",
   "name": "python3"
  },
  "language_info": {
   "codemirror_mode": {
    "name": "ipython",
    "version": 3
   },
   "file_extension": ".py",
   "mimetype": "text/x-python",
   "name": "python",
   "nbconvert_exporter": "python",
   "pygments_lexer": "ipython3",
   "version": "3.6.3"
  }
 },
 "nbformat": 4,
 "nbformat_minor": 2
}
